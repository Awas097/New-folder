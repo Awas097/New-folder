{
 "cells": [
  {
   "cell_type": "code",
   "execution_count": 1,
   "metadata": {},
   "outputs": [
    {
     "name": "stdout",
     "output_type": "stream",
     "text": [
      "{'name': 'raja', 'class': ' 2nd', 'roll no': '4', 'marks': '90'}\n"
     ]
    }
   ],
   "source": [
    "student = {\n",
    "    'name' : 'raja',\n",
    "    'class': ' 2nd',\n",
    "    'roll no': '4',\n",
    "    'marks' : '90'\n",
    "}\n",
    "print(student)"
   ]
  },
  {
   "cell_type": "code",
   "execution_count": 2,
   "metadata": {},
   "outputs": [
    {
     "name": "stdout",
     "output_type": "stream",
     "text": [
      "raja\n",
      " 2nd\n"
     ]
    }
   ],
   "source": [
    "print(student['name'])\n",
    "print(student['class'])"
   ]
  },
  {
   "cell_type": "code",
   "execution_count": 3,
   "metadata": {},
   "outputs": [
    {
     "name": "stdout",
     "output_type": "stream",
     "text": [
      "raja\n"
     ]
    }
   ],
   "source": [
    "print(student.get('name'))"
   ]
  },
  {
   "cell_type": "code",
   "execution_count": 4,
   "metadata": {},
   "outputs": [
    {
     "name": "stdout",
     "output_type": "stream",
     "text": [
      "{'name': 'raja', 'class': '3rd class', 'roll no': '4', 'marks': '90', 'school': 'CMS'}\n"
     ]
    }
   ],
   "source": [
    "# add new entry and update\n",
    "student['school'] = 'CMS'\n",
    "student['class'] = '3rd class'\n",
    "print(student)"
   ]
  },
  {
   "cell_type": "code",
   "execution_count": 5,
   "metadata": {},
   "outputs": [],
   "source": [
    "series = {\n",
    "    'title' : 'Person of Interest',\n",
    "    'total_seasons': '5',\n",
    "    'ott' : 'Amazon prime',\n",
    "    'rating' : '9.8'\n",
    "\n",
    "}"
   ]
  },
  {
   "cell_type": "code",
   "execution_count": 6,
   "metadata": {},
   "outputs": [
    {
     "name": "stdout",
     "output_type": "stream",
     "text": [
      "title\n",
      "total_seasons\n",
      "ott\n",
      "rating\n"
     ]
    }
   ],
   "source": [
    "for key in series:\n",
    "    print(key)"
   ]
  },
  {
   "cell_type": "code",
   "execution_count": 7,
   "metadata": {},
   "outputs": [
    {
     "name": "stdout",
     "output_type": "stream",
     "text": [
      "title Person of Interest\n",
      "total_seasons 5\n",
      "ott Amazon prime\n",
      "rating 9.8\n"
     ]
    }
   ],
   "source": [
    "for key in series:\n",
    "    print(key, series[key])"
   ]
  },
  {
   "cell_type": "code",
   "execution_count": 8,
   "metadata": {},
   "outputs": [
    {
     "name": "stdout",
     "output_type": "stream",
     "text": [
      "title Person of Interest\n",
      "total_seasons 5\n",
      "ott Amazon prime\n",
      "rating 9.8\n"
     ]
    }
   ],
   "source": [
    "for k, v in series.items():\n",
    "    print(k, v)"
   ]
  },
  {
   "cell_type": "code",
   "execution_count": 9,
   "metadata": {},
   "outputs": [],
   "source": [
    "cricketer = {'Name' : 'Virat',\n",
    "             'Age' :'34',\n",
    "             'City':'New Delhi',\n",
    "             'Match' : '300',\n",
    "             'runs' :'25000'\n",
    "}"
   ]
  },
  {
   "cell_type": "code",
   "execution_count": 10,
   "metadata": {},
   "outputs": [
    {
     "name": "stdout",
     "output_type": "stream",
     "text": [
      "Name\n",
      "Age\n",
      "City\n",
      "Match\n",
      "runs\n"
     ]
    }
   ],
   "source": [
    "for key in cricketer:\n",
    "    print(key)"
   ]
  },
  {
   "cell_type": "code",
   "execution_count": 11,
   "metadata": {},
   "outputs": [
    {
     "name": "stdout",
     "output_type": "stream",
     "text": [
      "('Name', 'Virat')\n",
      "('Age', '34')\n",
      "('City', 'New Delhi')\n",
      "('Match', '300')\n",
      "('runs', '25000')\n"
     ]
    }
   ],
   "source": [
    "for value in cricketer.items():\n",
    "    print(value)"
   ]
  },
  {
   "cell_type": "code",
   "execution_count": 12,
   "metadata": {},
   "outputs": [
    {
     "name": "stdout",
     "output_type": "stream",
     "text": [
      "Name Virat\n",
      "Age 34\n",
      "City New Delhi\n",
      "Match 300\n",
      "runs 25000\n"
     ]
    }
   ],
   "source": [
    "for values in cricketer:\n",
    "    print(values, cricketer[values])"
   ]
  },
  {
   "cell_type": "code",
   "execution_count": 13,
   "metadata": {},
   "outputs": [
    {
     "name": "stdout",
     "output_type": "stream",
     "text": [
      "Virat\n",
      "34\n",
      "New Delhi\n",
      "300\n",
      "25000\n"
     ]
    }
   ],
   "source": [
    "#only values prints\n",
    "for v in cricketer.values():\n",
    "    print(v)"
   ]
  },
  {
   "cell_type": "code",
   "execution_count": 16,
   "metadata": {},
   "outputs": [
    {
     "name": "stdout",
     "output_type": "stream",
     "text": [
      "<built-in method keys of dict object at 0x0000023134414200>\n",
      "<built-in method values of dict object at 0x0000023134414200>\n",
      "<built-in method items of dict object at 0x0000023134414200>\n"
     ]
    }
   ],
   "source": [
    "print(cricketer.keys)\n",
    "print(cricketer.values)\n",
    "print(cricketer.items)"
   ]
  },
  {
   "cell_type": "code",
   "execution_count": null,
   "metadata": {},
   "outputs": [],
   "source": []
  },
  {
   "cell_type": "code",
   "execution_count": null,
   "metadata": {},
   "outputs": [],
   "source": []
  }
 ],
 "metadata": {
  "kernelspec": {
   "display_name": "base",
   "language": "python",
   "name": "python3"
  },
  "language_info": {
   "codemirror_mode": {
    "name": "ipython",
    "version": 3
   },
   "file_extension": ".py",
   "mimetype": "text/x-python",
   "name": "python",
   "nbconvert_exporter": "python",
   "pygments_lexer": "ipython3",
   "version": "3.10.8"
  },
  "orig_nbformat": 4
 },
 "nbformat": 4,
 "nbformat_minor": 2
}

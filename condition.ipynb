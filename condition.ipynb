{
 "cells": [
  {
   "attachments": {},
   "cell_type": "markdown",
   "metadata": {},
   "source": [
    "Condition\n",
    "if\n",
    "else\n",
    "nested if\n",
    "elif\n",
    "match"
   ]
  },
  {
   "cell_type": "code",
   "execution_count": 1,
   "metadata": {},
   "outputs": [
    {
     "name": "stdout",
     "output_type": "stream",
     "text": [
      "yes\n",
      "count is even\n"
     ]
    }
   ],
   "source": [
    "count = int(input(\"enter a value:\"))\n",
    "if count >5:\n",
    "    print(\"yes\")\n",
    "\n",
    "if count > 15:\n",
    "    print(\"see\")\n",
    "\n",
    "if count%2 == 0:\n",
    "   print(\"count is even\")"
   ]
  },
  {
   "attachments": {},
   "cell_type": "markdown",
   "metadata": {},
   "source": [
    "Multiple condition in an if statement"
   ]
  },
  {
   "cell_type": "code",
   "execution_count": 4,
   "metadata": {},
   "outputs": [
    {
     "name": "stdout",
     "output_type": "stream",
     "text": [
      "c=13 is greater\n"
     ]
    }
   ],
   "source": [
    "a=10\n",
    "b=5\n",
    "c=13\n",
    "if a>b and a>c:\n",
    "    print(f'{a=} is greater')\n",
    "if b>a and c>b:\n",
    "    print(f'{b=}is greater')\n",
    "if c>a and c>b:\n",
    "    print(f'{c=} is greater')"
   ]
  },
  {
   "cell_type": "code",
   "execution_count": 5,
   "metadata": {},
   "outputs": [
    {
     "name": "stdout",
     "output_type": "stream",
     "text": [
      "c=13 is greater\n"
     ]
    }
   ],
   "source": [
    "if a>b and a>c:\n",
    "    print(f'{a=} is greater')\n",
    "elif b>c and b>a:\n",
    "    print(f'{b=} is greater')\n",
    "else:\n",
    "    print(f'{c=} is greater')"
   ]
  },
  {
   "cell_type": "code",
   "execution_count": null,
   "metadata": {},
   "outputs": [],
   "source": []
  }
 ],
 "metadata": {
  "kernelspec": {
   "display_name": "base",
   "language": "python",
   "name": "python3"
  },
  "language_info": {
   "codemirror_mode": {
    "name": "ipython",
    "version": 3
   },
   "file_extension": ".py",
   "mimetype": "text/x-python",
   "name": "python",
   "nbconvert_exporter": "python",
   "pygments_lexer": "ipython3",
   "version": "3.10.8"
  },
  "orig_nbformat": 4,
  "vscode": {
   "interpreter": {
    "hash": "462196647dc5129d13b6176a0df236ff454f1e27ec8c6658cd3a0435db15077f"
   }
  }
 },
 "nbformat": 4,
 "nbformat_minor": 2
}

{
 "cells": [
  {
   "attachments": {},
   "cell_type": "markdown",
   "metadata": {},
   "source": [
    "Condition\n",
    "if\n",
    "else\n",
    "nested if\n",
    "elif\n",
    "match"
   ]
  },
  {
   "cell_type": "code",
   "execution_count": 2,
   "metadata": {},
   "outputs": [
    {
     "name": "stdout",
     "output_type": "stream",
     "text": [
      "true\n"
     ]
    }
   ],
   "source": [
    "count = int(input(\"enter a value:\"))\n",
    "if count >5:\n",
    "    print(\"true\")\n",
    "\n",
    "if count > 15:\n",
    "    print(\"see\")\n",
    "\n",
    "if count%2 == 0:\n",
    "   print(\"count is even\")"
   ]
  },
  {
   "attachments": {},
   "cell_type": "markdown",
   "metadata": {},
   "source": [
    "Multiple condition in an if statement"
   ]
  },
  {
   "cell_type": "code",
   "execution_count": 33,
   "metadata": {},
   "outputs": [
    {
     "name": "stdout",
     "output_type": "stream",
     "text": [
      "b=17 is greater\n",
      "all number\n"
     ]
    }
   ],
   "source": [
    "a=16\n",
    "b=17\n",
    "c=11\n",
    "if a>b and a>c:\n",
    "    print(f'{a=} is greater')\n",
    "if b>a and b>c:\n",
    "    print(f'{b=} is greater')\n",
    "if c>a and c>b:\n",
    "    print(f'{c=} is greater')\n",
    "else:\n",
    "    print(\"all number\")"
   ]
  },
  {
   "cell_type": "code",
   "execution_count": 35,
   "metadata": {},
   "outputs": [
    {
     "name": "stdout",
     "output_type": "stream",
     "text": [
      "b=17 is greater\n"
     ]
    }
   ],
   "source": [
    "if a>b and a>c:\n",
    "    print(f'{a=} is greater')\n",
    "elif b>c and b>a:\n",
    "    print(f'{b=} is greater')\n",
    "else:\n",
    "    print(f'{c=} is greater')"
   ]
  },
  {
   "attachments": {},
   "cell_type": "markdown",
   "metadata": {},
   "source": [
    "nested"
   ]
  },
  {
   "cell_type": "code",
   "execution_count": 2,
   "metadata": {},
   "outputs": [
    {
     "name": "stdout",
     "output_type": "stream",
     "text": [
      "username is invalid\n"
     ]
    }
   ],
   "source": [
    "username=input(\"enter your name\")\n",
    "email=input(\"enter your email\")\n",
    "pwd=input(\"enter new password\")\n",
    "pwd2=input(\"confirm ur password\")\n",
    "\n",
    "if len(username) >=4 and len(username) <= 15:\n",
    "    if '@' in email and email.islower() and len(email) >10:\n",
    "        if len(pwd) >=6 and len != username:\n",
    "            if pwd == pwd2:\n",
    "                print(\"done\")\n",
    "            else:\n",
    "                print(\"password do not match\")\n",
    "        else:\n",
    "            print(\"password is invalid\")\n",
    "    else:\n",
    "        print(\"email is invalid\")\n",
    "else:\n",
    "    print(\"username is invalid\")"
   ]
  },
  {
   "cell_type": "code",
   "execution_count": 3,
   "metadata": {},
   "outputs": [
    {
     "name": "stdout",
     "output_type": "stream",
     "text": [
      "invalid DOB\n"
     ]
    }
   ],
   "source": [
    "Name = input(\"enter ur Name\")\n",
    "email = input(\"enter ur email\")\n",
    "Mobile_Number = input(\"enter ur Mobile_Number\")\n",
    "DOB = input(\"enter ur DOB\")\n",
    "Gender = input(\"enter ur Gender\")\n",
    "Father_Name = input(\"enter ur Father_Name\")\n",
    "pwd = input(\"enter ur pwd\")\n",
    "pwd2= input(\"enter ur pwd2\")\n",
    "\n",
    "if len(Name)>=4 and len(Name)<15:\n",
    "    if '@' in email and email.islower() and len(email)>15:\n",
    "        if len(Mobile_Number)>10:\n",
    "            if len(DOB)>=4 and len(DOB)<10:\n",
    "                if len(Gender) >=4 and len(Gender)<=4:\n",
    "                    if len(Father_Name) >=15:\n",
    "                        if len(pwd) >=6:\n",
    "                            if pwd == pwd2:\n",
    "                                print(\"Done\")\n",
    "                            else:\n",
    "                                print(\"Do not match password\")\n",
    "                        else:\n",
    "                            print(\"password invalid\")\n",
    "                    else:\n",
    "                        print(\"invalid name\")\n",
    "                else:\n",
    "                    print(\"invalid email\")\n",
    "            else:\n",
    "                print(\"invalid Mobile_Number\")\n",
    "        else:\n",
    "            print(\"invalid DOB\")\n",
    "    else:\n",
    "        print(\"invalid Gender\")\n",
    "else:\n",
    "    print(\"invalid Father_Name\")"
   ]
  },
  {
   "cell_type": "code",
   "execution_count": null,
   "metadata": {},
   "outputs": [],
   "source": []
  }
 ],
 "metadata": {
  "kernelspec": {
   "display_name": "base",
   "language": "python",
   "name": "python3"
  },
  "language_info": {
   "codemirror_mode": {
    "name": "ipython",
    "version": 3
   },
   "file_extension": ".py",
   "mimetype": "text/x-python",
   "name": "python",
   "nbconvert_exporter": "python",
   "pygments_lexer": "ipython3",
   "version": "3.10.8"
  },
  "orig_nbformat": 4,
  "vscode": {
   "interpreter": {
    "hash": "462196647dc5129d13b6176a0df236ff454f1e27ec8c6658cd3a0435db15077f"
   }
  }
 },
 "nbformat": 4,
 "nbformat_minor": 2
}

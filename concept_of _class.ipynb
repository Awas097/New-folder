{
 "cells": [
  {
   "cell_type": "code",
   "execution_count": 2,
   "metadata": {},
   "outputs": [],
   "source": [
    "names = ['John', 'paul', 'George', 'Ringo']"
   ]
  },
  {
   "cell_type": "code",
   "execution_count": 3,
   "metadata": {},
   "outputs": [],
   "source": [
    "students = [\n",
    "    {'name' :'John', 'age' :25, 'grade':32},\n",
    "    {'name' :'paul', 'age' :26, 'grade':45},\n",
    "    {'name' :'George','age':24, 'grade':56},\n",
    "    {'name' :'Ringo','age' :27, 'grade':89},\n",
    "]"
   ]
  },
  {
   "cell_type": "code",
   "execution_count": 4,
   "metadata": {},
   "outputs": [
    {
     "data": {
      "text/plain": [
       "[{'name': 'John', 'age': 25, 'grade': 32},\n",
       " {'name': 'paul', 'age': 26, 'grade': 45},\n",
       " {'name': 'George', 'age': 24, 'grade': 56},\n",
       " {'name': 'Ringo', 'age': 27, 'grade': 89}]"
      ]
     },
     "execution_count": 4,
     "metadata": {},
     "output_type": "execute_result"
    }
   ],
   "source": [
    "students"
   ]
  },
  {
   "cell_type": "code",
   "execution_count": 5,
   "metadata": {},
   "outputs": [
    {
     "data": {
      "text/plain": [
       "[{'name': 'John', 'age': 25, 'grade': 32},\n",
       " {'name': 'paul', 'age': 26, 'grade': 45}]"
      ]
     },
     "execution_count": 5,
     "metadata": {},
     "output_type": "execute_result"
    }
   ],
   "source": [
    "students[0:2]"
   ]
  },
  {
   "attachments": {},
   "cell_type": "markdown",
   "metadata": {},
   "source": [
    "- Object Oriented Principal\n",
    "-   Encapsulation\n",
    "-   Abstraction\n",
    "-   Inheritance\n"
   ]
  },
  {
   "cell_type": "code",
   "execution_count": 6,
   "metadata": {},
   "outputs": [],
   "source": [
    "class students: #__init__ it is a dunder method\n",
    "    def __init__(self, name, age, grade):\n",
    "        self.name = name\n",
    "        self.age = age\n",
    "        self.grade = grade\n",
    "\n",
    "    def __repr__(self):\n",
    "        return self.name\n"
   ]
  },
  {
   "cell_type": "code",
   "execution_count": 7,
   "metadata": {},
   "outputs": [],
   "source": [
    "studentss = [\n",
    "    students('Jhon',25,32),\n",
    "    students('Pual',26,45),\n",
    "    students('Geogre',24,56),\n",
    "    students('Ringo',27,89),\n",
    "]"
   ]
  },
  {
   "cell_type": "code",
   "execution_count": 8,
   "metadata": {},
   "outputs": [
    {
     "data": {
      "text/plain": [
       "Jhon"
      ]
     },
     "execution_count": 8,
     "metadata": {},
     "output_type": "execute_result"
    }
   ],
   "source": [
    "studentss[0]"
   ]
  },
  {
   "cell_type": "code",
   "execution_count": 9,
   "metadata": {},
   "outputs": [],
   "source": [
    "class Mobile:\n",
    "    def __init__(self,nm,brnd,price,ram,camera):\n",
    "        self.name = nm\n",
    "        self.brand = brnd\n",
    "        self.price = price\n",
    "        self.ram = ram\n",
    "        self.camera = camera\n",
    "    def __repr__(self):\n",
    "        return self.name \n",
    "    def info(self):\n",
    "        print(f'name:{self.name}')\n",
    "        print(f'brand:{self.brand}')\n",
    "        print(f'price:{self.price}')\n",
    "        print(f'ram:{self.ram}')\n",
    "        print(f'camera:{self.camera}')\n",
    "\n",
    "\n"
   ]
  },
  {
   "cell_type": "code",
   "execution_count": 10,
   "metadata": {},
   "outputs": [
    {
     "name": "stdout",
     "output_type": "stream",
     "text": [
      "[Redmi Note 9 pro, Iphone 14, Galaxy M31]\n"
     ]
    }
   ],
   "source": [
    "m1 = Mobile('Redmi Note 9 pro','Xiaomi',15000, '6GB','48MP')\n",
    "m2 = Mobile('Iphone 14','Apple',160000, '4GB','12MP')\n",
    "m3 = Mobile('Galaxy M31','Samsung',20000, '6GB','64MP')\n",
    "mobiles = [m1,m2,m3]\n",
    "print(mobiles)"
   ]
  },
  {
   "cell_type": "code",
   "execution_count": 11,
   "metadata": {},
   "outputs": [
    {
     "name": "stdout",
     "output_type": "stream",
     "text": [
      "name:Redmi Note 9 pro\n",
      "brand:Xiaomi\n",
      "price:15000\n",
      "ram:6GB\n",
      "camera:48MP\n",
      "name:Iphone 14\n",
      "brand:Apple\n",
      "price:160000\n",
      "ram:4GB\n",
      "camera:12MP\n",
      "name:Galaxy M31\n",
      "brand:Samsung\n",
      "price:20000\n",
      "ram:6GB\n",
      "camera:64MP\n"
     ]
    }
   ],
   "source": [
    "for item in mobiles:\n",
    "    item.info()"
   ]
  },
  {
   "cell_type": "code",
   "execution_count": 12,
   "metadata": {},
   "outputs": [
    {
     "name": "stdout",
     "output_type": "stream",
     "text": [
      "name:Redmi Note 9 pro\n",
      "brand:Xiaomi\n",
      "price:15000\n",
      "ram:6GB\n",
      "camera:48MP\n",
      "name:Iphone 14\n",
      "brand:Apple\n",
      "price:160000\n",
      "ram:4GB\n",
      "camera:12MP\n",
      "name:Galaxy M31\n",
      "brand:Samsung\n",
      "price:20000\n",
      "ram:6GB\n",
      "camera:64MP\n"
     ]
    }
   ],
   "source": [
    "for item in mobiles:\n",
    "    item.info()"
   ]
  },
  {
   "attachments": {},
   "cell_type": "markdown",
   "metadata": {},
   "source": [
    "Inheritance"
   ]
  },
  {
   "cell_type": "code",
   "execution_count": 13,
   "metadata": {},
   "outputs": [],
   "source": [
    "class person:\n",
    "    def __init__(self, name, gender=\"male\",age=23):\n",
    "        self.name = name\n",
    "        self.age = age\n",
    "        self.gender = gender\n",
    "    def __repr__(self):\n",
    "        return self.name\n",
    "    "
   ]
  },
  {
   "cell_type": "code",
   "execution_count": 14,
   "metadata": {},
   "outputs": [
    {
     "data": {
      "text/plain": [
       "('Abhishek', 'age=24', 'male')"
      ]
     },
     "execution_count": 14,
     "metadata": {},
     "output_type": "execute_result"
    }
   ],
   "source": [
    "p1=('Abhishek','age=24','male')\n",
    "p1"
   ]
  },
  {
   "cell_type": "code",
   "execution_count": 15,
   "metadata": {},
   "outputs": [],
   "source": [
    "class Politician(person):\n",
    "    def __init__(self, name, age, gender, pp, exp, area, designation):\n",
    "        super().__init__(name, age, gender)\n",
    "        self.party = pp\n",
    "        self.experience = exp\n",
    "        self.area = area\n",
    "        self.desigation = designation"
   ]
  },
  {
   "cell_type": "code",
   "execution_count": 16,
   "metadata": {},
   "outputs": [
    {
     "data": {
      "text/plain": [
       "Priyanshu"
      ]
     },
     "execution_count": 16,
     "metadata": {},
     "output_type": "execute_result"
    }
   ],
   "source": [
    "p2 = Politician('Priyanshu', 24, 'male', 'bjp', 2, 'Bihar', 'mla')\n",
    "p2"
   ]
  },
  {
   "cell_type": "code",
   "execution_count": 32,
   "metadata": {},
   "outputs": [],
   "source": [
    "class Actor(Politician):\n",
    "    def __init__(self, name, gender, age, pp, exp, area, designation, flim, hit, flop):\n",
    "        super().__init__(name, gender, age,pp, exp, area, designation)\n",
    "        self.Flim = flim\n",
    "        self.Hit = hit\n",
    "        self.Flop = flop\n",
    "        def __repr__(self):\n",
    "          return self.name"
   ]
  },
  {
   "cell_type": "code",
   "execution_count": 33,
   "metadata": {},
   "outputs": [
    {
     "data": {
      "text/plain": [
       "Ajay"
      ]
     },
     "execution_count": 33,
     "metadata": {},
     "output_type": "execute_result"
    }
   ],
   "source": [
    "D1 = Actor('Ajay', 'Male', 25,'BJP', 35, 'UP', 'Lok' 'Bhola', 100, 'God',1)\n",
    "D1"
   ]
  },
  {
   "cell_type": "code",
   "execution_count": null,
   "metadata": {},
   "outputs": [],
   "source": [
    "from dataclasses import dataclass\n",
    "\n",
    "@dataclass\n",
    "class product:\n",
    "    name: str\n",
    "    price: float\n",
    "    quantity: int"
   ]
  },
  {
   "cell_type": "code",
   "execution_count": null,
   "metadata": {},
   "outputs": [
    {
     "data": {
      "text/plain": [
       "[product(name='lap', price=1000000, quantity=5),\n",
       " product(name='Mouse', price=10000, quantity=6),\n",
       " product(name='keyboard', price=10000, quantity=5)]"
      ]
     },
     "execution_count": 19,
     "metadata": {},
     "output_type": "execute_result"
    }
   ],
   "source": [
    "products = [\n",
    "    product('lap', 1000000, 5),\n",
    "    product('Mouse', 10000, 6),\n",
    "    product('keyboard', 10000, 5)\n",
    "]\n",
    "products"
   ]
  },
  {
   "cell_type": "code",
   "execution_count": null,
   "metadata": {},
   "outputs": [],
   "source": [
    "@dataclass\n",
    "class Polygon:\n",
    "    sides: int\n",
    "    length: float\n",
    "\n",
    "    def perimeter(self):\n",
    "        return self.sides * self.length"
   ]
  },
  {
   "cell_type": "code",
   "execution_count": null,
   "metadata": {},
   "outputs": [
    {
     "name": "stdout",
     "output_type": "stream",
     "text": [
      "20\n",
      "48\n"
     ]
    }
   ],
   "source": [
    "p = Polygon(4, 5)\n",
    "p3 = Polygon(24, 2)\n",
    "print(p.perimeter())\n",
    "print(p3.perimeter())\n"
   ]
  },
  {
   "cell_type": "code",
   "execution_count": null,
   "metadata": {},
   "outputs": [],
   "source": [
    "class Slist(list):\n",
    "    def sum(self):\n",
    "        return sum(self)\n",
    "        \n",
    "    def mean(self):\n",
    "        return sum(self) / len(self)"
   ]
  },
  {
   "cell_type": "code",
   "execution_count": null,
   "metadata": {},
   "outputs": [
    {
     "name": "stdout",
     "output_type": "stream",
     "text": [
      "47\n",
      "18\n",
      "118\n",
      "19.666666666666668\n"
     ]
    }
   ],
   "source": [
    "x = Slist([1,2,5,6,4])\n",
    "y = Slist([7,6,4,4,8])\n",
    "z = (sum(x+y))\n",
    "print(z)\n",
    "\n",
    "print(x.sum())\n",
    "x.append(100)\n",
    "print(x.sum())\n",
    "print(x.mean())"
   ]
  },
  {
   "cell_type": "code",
   "execution_count": null,
   "metadata": {},
   "outputs": [],
   "source": []
  }
 ],
 "metadata": {
  "kernelspec": {
   "display_name": "base",
   "language": "python",
   "name": "python3"
  },
  "language_info": {
   "codemirror_mode": {
    "name": "ipython",
    "version": 3
   },
   "file_extension": ".py",
   "mimetype": "text/x-python",
   "name": "python",
   "nbconvert_exporter": "python",
   "pygments_lexer": "ipython3",
   "version": "3.10.8"
  },
  "orig_nbformat": 4
 },
 "nbformat": 4,
 "nbformat_minor": 2
}

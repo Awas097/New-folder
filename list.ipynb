{
 "cells": [
  {
   "attachments": {},
   "cell_type": "markdown",
   "metadata": {},
   "source": [
    "LIST\n",
    "# Data structures\n",
    "- LIST '[]'\n",
    "    -Ordered, Indexed, Mutable\n",
    "- Tuple '()'\n",
    "    - Ordered, Indexed, Immutable, **duplicates allowed**\n",
    "- SET '{}'\n",
    "   - Unordered, Unindexed, Mutable, **Only unique elements**\n",
    "- DICT. '{}'\n",
    "    - Ordered, Unindexed, Mutable *** key: values pairs**, duplicates values allowed"
   ]
  },
  {
   "cell_type": "code",
   "execution_count": 2,
   "metadata": {},
   "outputs": [
    {
     "name": "stdout",
     "output_type": "stream",
     "text": [
      "[]\n",
      "[2, 5, 1, 6, 78, 78]\n",
      "['a', 'b', 'c', 'h', 'f', 'd']\n",
      "[1, 'a', 'she', 45, 89]\n",
      "[1, 2, [2, 4], ['a', 'b']]\n"
     ]
    }
   ],
   "source": [
    "X = []\n",
    "print(X)\n",
    "\n",
    "y = [2,5,1,6,78,78,]\n",
    "print(y)\n",
    "\n",
    "z = ['a','b','c','h','f','d']\n",
    "print(z)\n",
    "\n",
    "w = [1, 'a' ,'she', 45,89]\n",
    "print(w)\n",
    "\n",
    "v = [ 1,2,[2,4],['a','b']]\n",
    "print(v)"
   ]
  },
  {
   "cell_type": "code",
   "execution_count": 3,
   "metadata": {},
   "outputs": [
    {
     "name": "stdout",
     "output_type": "stream",
     "text": [
      "[2, 5, 1, 6, 78, 78, 8]\n"
     ]
    }
   ],
   "source": [
    "# Append fun. add data in list\n",
    "y.append(8)\n",
    "print(y)"
   ]
  },
  {
   "cell_type": "code",
   "execution_count": 4,
   "metadata": {},
   "outputs": [
    {
     "name": "stdout",
     "output_type": "stream",
     "text": [
      "[2, 5, 6, 78, 78, 8]\n"
     ]
    }
   ],
   "source": [
    "# Remove fun. data remove in list\n",
    "y.remove(1)\n",
    "print(y)"
   ]
  },
  {
   "cell_type": "code",
   "execution_count": 7,
   "metadata": {},
   "outputs": [
    {
     "name": "stdout",
     "output_type": "stream",
     "text": [
      "[2, 5, 78]\n"
     ]
    }
   ],
   "source": [
    "# Remove elements in postion\n",
    "y.pop(2)\n",
    "print(y)"
   ]
  },
  {
   "cell_type": "code",
   "execution_count": 9,
   "metadata": {},
   "outputs": [
    {
     "name": "stdout",
     "output_type": "stream",
     "text": [
      "[2, 5, 78, 56, 56]\n"
     ]
    }
   ],
   "source": [
    "y.insert(5, 56)\n",
    "print(y)"
   ]
  },
  {
   "cell_type": "code",
   "execution_count": 12,
   "metadata": {},
   "outputs": [
    {
     "name": "stdout",
     "output_type": "stream",
     "text": [
      "[2, 5, 78, 56, 56, 2, 5, 78, 56, 56]\n"
     ]
    }
   ],
   "source": [
    "X.extend(y) # list extend in any list \n",
    "print(X)"
   ]
  },
  {
   "cell_type": "code",
   "execution_count": 13,
   "metadata": {},
   "outputs": [
    {
     "name": "stdout",
     "output_type": "stream",
     "text": [
      "[78, 56, 56, 5, 2]\n"
     ]
    }
   ],
   "source": [
    "y.sort(reverse=True) # \n",
    "print(y)"
   ]
  },
  {
   "cell_type": "code",
   "execution_count": null,
   "metadata": {},
   "outputs": [],
   "source": []
  }
 ],
 "metadata": {
  "kernelspec": {
   "display_name": "base",
   "language": "python",
   "name": "python3"
  },
  "language_info": {
   "codemirror_mode": {
    "name": "ipython",
    "version": 3
   },
   "file_extension": ".py",
   "mimetype": "text/x-python",
   "name": "python",
   "nbconvert_exporter": "python",
   "pygments_lexer": "ipython3",
   "version": "3.10.8"
  },
  "orig_nbformat": 4
 },
 "nbformat": 4,
 "nbformat_minor": 2
}

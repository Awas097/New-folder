{
 "cells": [
  {
   "cell_type": "code",
   "execution_count": 36,
   "metadata": {},
   "outputs": [],
   "source": [
    "from dputils.scrape import Scraper, Tag"
   ]
  },
  {
   "cell_type": "code",
   "execution_count": 37,
   "metadata": {},
   "outputs": [],
   "source": [
    "def get_data(query, page=1):\n",
    "   webpage = Scraper(f'https://www.amazon.in/s?k={query}&page={page}')\n",
    "   webpage.soup.title"
   ]
  },
  {
   "cell_type": "code",
   "execution_count": 38,
   "metadata": {},
   "outputs": [
    {
     "data": {
      "text/plain": [
       "[{'name': None, 'price': None, 'rating': None},\n",
       " {'name': None, 'price': None, 'rating': None},\n",
       " {'name': 'Samsung Galaxy M04 Dark Blue, 4GB RAM, 64GB Storage | Upto 8GB RAM with RAM Plus | MediaTek Helio P35 | 5000 mAh Battery  ',\n",
       "  'price': '9,249',\n",
       "  'rating': None},\n",
       " {'name': 'Samsung Galaxy M33 5G (Emerald Brown, 6GB, 128GB Storage) | 6000mAh Battery | Upto 12GB RAM with RAM Plus | Travel Adapter to be Purchased Separately  ',\n",
       "  'price': '17,999',\n",
       "  'rating': None},\n",
       " {'name': 'Samsung Galaxy M04 Dark Blue, 4GB RAM, 64GB Storage | Upto 8GB RAM with RAM Plus | MediaTek Helio P35 | 5000 mAh Battery  ',\n",
       "  'price': '9,249',\n",
       "  'rating': None},\n",
       " {'name': 'Redmi A1 (Light Blue, 2GB RAM, 32GB Storage) | Segment Best AI Dual Cam | 5000mAh Battery | Leather Texture Design | Android 12  ',\n",
       "  'price': '5,899',\n",
       "  'rating': None},\n",
       " {'name': 'OnePlus Nord CE 2 Lite 5G (Black Dusk, 6GB RAM, 128GB Storage)  ',\n",
       "  'price': '18,999',\n",
       "  'rating': '4.3 out of 5 stars'},\n",
       " {'name': None, 'price': None, 'rating': None},\n",
       " {'name': 'OPPO A74 5G (Fantastic Purple,6GB RAM,128GB Storage) with No Cost EMI/Additional Exchange Offers  ',\n",
       "  'price': '15,990',\n",
       "  'rating': None},\n",
       " {'name': 'realme narzo 50A Prime (Flash Blue, 4GB RAM+128GB Storage) FHD+ Display | 50MP AI Triple Camera| Charger Included  ',\n",
       "  'price': '11,499',\n",
       "  'rating': None},\n",
       " {'name': 'Oppo A78 5G (Glowing Blue, 8GB RAM, 128 Storage) | 5000 mAh Battery with 33W SUPERVOOC Charger| 50MP AI Camera | 90Hz Refresh Rate | with No Cost EMI/Additional Exchange Offers  ',\n",
       "  'price': '18,999',\n",
       "  'rating': None},\n",
       " {'name': 'Samsung Galaxy M04 Light Green, 4GB RAM, 128GB Storage | Upto 8GB RAM with RAM Plus | MediaTek Helio P35 | 5000 mAh Battery  ',\n",
       "  'price': '10,249',\n",
       "  'rating': None},\n",
       " {'name': 'Samsung Galaxy M04 Light Green, 4GB RAM, 64GB Storage | Upto 8GB RAM with RAM Plus | MediaTek Helio P35 | 5000 mAh Battery  ',\n",
       "  'price': '9,249',\n",
       "  'rating': None},\n",
       " {'name': 'Apple iPhone 14 Pro (1 TB) - Gold  ',\n",
       "  'price': '1,69,999',\n",
       "  'rating': '4.6 out of 5 stars'},\n",
       " {'name': 'Apple iPhone 14 Plus (128 GB) - Midnight  ',\n",
       "  'price': '84,900',\n",
       "  'rating': '4.6 out of 5 stars'},\n",
       " {'name': 'Samsung Galaxy M13 (Aqua Green, 4GB, 64GB Storage) | 6000mAh Battery | Upto 8GB RAM with RAM Plus  ',\n",
       "  'price': '10,999',\n",
       "  'rating': None},\n",
       " {'name': None, 'price': None, 'rating': None},\n",
       " {'name': 'Redmi 10 Power (Sporty Orange, 8GB RAM, 128GB Storage)  ',\n",
       "  'price': '12,499',\n",
       "  'rating': None},\n",
       " {'name': 'Redmi 10A (Slate Grey, 4GB RAM, 64GB Storage) | 2 Ghz Octa Core Helio G25 | 5000 mAh Battery | Finger Print Sensor | Upto 5GB RAM with RAM Booster  ',\n",
       "  'price': '8,699',\n",
       "  'rating': None},\n",
       " {'name': 'Nokia C12 Android 12 (Go Edition) Smartphone, All-Day Battery, 4GB RAM (2GB RAM + 2GB Virtual RAM) + 64GB Capacity | Charcoal  ',\n",
       "  'price': '6,499',\n",
       "  'rating': None},\n",
       " {'name': 'realme narzo 50i Prime (Dark Blue 4GB RAM+64GB Storage) Octa-core Processor | 5000 mAh Battery  ',\n",
       "  'price': '8,499',\n",
       "  'rating': None},\n",
       " {'name': 'Samsung Galaxy M13 (Aqua Green, 6GB, 128GB Storage) | 6000mAh Battery | Upto 12GB RAM with RAM Plus  ',\n",
       "  'price': '12,999',\n",
       "  'rating': None},\n",
       " {'name': 'realme narzo 50 (Speed Blue, 6GB RAM+128GB Storage) Helio G96 Processor | 50MP AI Triple Camera | 120Hz Ultra Smooth Display  ',\n",
       "  'price': '12,999',\n",
       "  'rating': None},\n",
       " {'name': 'Redmi A1 (Light Green, 2GB RAM 32GB ROM) | Segment Best AI Dual Cam | 5000mAh Battery | Leather Texture Design | Android 12  ',\n",
       "  'price': '5,899',\n",
       "  'rating': None},\n",
       " {'name': 'Apple iPhone 14 (128 GB) - (Product) RED  ',\n",
       "  'price': '70,999',\n",
       "  'rating': '4.5 out of 5 stars'},\n",
       " {'name': 'Apple iPhone 14 Pro Max (256 GB) - Deep Purple  ',\n",
       "  'price': '1,49,900',\n",
       "  'rating': '4.5 out of 5 stars'},\n",
       " {'name': 'Redmi A1 (Light Blue, 2GB RAM, 32GB Storage) | Segment Best AI Dual Cam | 5000mAh Battery | Leather Texture Design | Android 12  ',\n",
       "  'price': '5,899',\n",
       "  'rating': '4.3 out of 5 stars'},\n",
       " {'name': 'Redmi A1 (Light Blue, 2GB RAM, 32GB Storage) | Segment Best AI Dual Cam | 5000mAh Battery | Leather Texture Design | Android 12  ',\n",
       "  'price': '5,899',\n",
       "  'rating': None},\n",
       " {'name': 'OnePlus Nord CE 2 Lite 5G (Black Dusk, 6GB RAM, 128GB Storage)  ',\n",
       "  'price': '18,999',\n",
       "  'rating': '4.3 out of 5 stars'},\n",
       " {'name': 'OPPO A74 5G (Fantastic Purple,6GB RAM,128GB Storage) with No Cost EMI/Additional Exchange Offers  ',\n",
       "  'price': '15,990',\n",
       "  'rating': None},\n",
       " {'name': 'Redmi 10A (Sea Blue, 4GB RAM, 64GB Storage) | 2 Ghz Octa Core Helio G25 | 5000 mAh Battery | Finger Print Sensor | Upto 5GB RAM with RAM Booster  ',\n",
       "  'price': None,\n",
       "  'rating': None},\n",
       " {'name': 'realme narzo 50 (Speed Blue, 4GB RAM+64GB Storage) 120Hz Full HD+ Display | 50MP AI Triple Camera | Helio G96 Powerful Gaming Processor  ',\n",
       "  'price': '10,499',\n",
       "  'rating': None},\n",
       " {'name': 'realme Narzo 50 Pro 5G (Hyper Blue 6GB RAM+128GB Storage) Super AMOLED | Advanced Dimensity 920 5G Gaming Processor | 50% Charge in 31 min  ',\n",
       "  'price': '21,499',\n",
       "  'rating': None},\n",
       " {'name': 'iQOO Neo 6 5G (Cyber Rage, 8GB RAM, 128GB Storage) | Only Snapdragon 870 in The Segment | 50% Charge in Just 12 Mins | 90 FPS Gaming Support*  ',\n",
       "  'price': '24,999',\n",
       "  'rating': '4.4 out of 5 stars'},\n",
       " {'name': 'iQOO Neo 6 5G (Dark Nova, 8GB RAM, 128GB Storage) | Only Snapdragon 870 in The Segment | 50% Charge in Just 12 Mins | 90 FPS Gaming Support*  ',\n",
       "  'price': '24,999',\n",
       "  'rating': '4.4 out of 5 stars'},\n",
       " {'name': None, 'price': None, 'rating': None},\n",
       " {'name': None, 'price': None, 'rating': None},\n",
       " {'name': None, 'price': None, 'rating': None},\n",
       " {'name': None, 'price': None, 'rating': None}]"
      ]
     },
     "execution_count": 38,
     "metadata": {},
     "output_type": "execute_result"
    }
   ],
   "source": [
    "target = Tag(cls='s-main-slot s-result-list s-search-results sg-row')\n",
    "items = Tag(cls='s-result-item')\n",
    "title = Tag('h2')\n",
    "price = Tag('span',cls='a-price-whole')\n",
    "rating = Tag('i',cls= 'a-icon a-icon-star-small a-star-small-4-5 aok-align-bottom')\n",
    "webpage.get_all(target, items, name=title,price=price, rating=rating )"
   ]
  },
  {
   "cell_type": "code",
   "execution_count": 39,
   "metadata": {},
   "outputs": [
    {
     "ename": "TypeError",
     "evalue": "'NoneType' object is not iterable",
     "output_type": "error",
     "traceback": [
      "\u001b[1;31m---------------------------------------------------------------------------\u001b[0m",
      "\u001b[1;31mTypeError\u001b[0m                                 Traceback (most recent call last)",
      "Cell \u001b[1;32mIn[39], line 6\u001b[0m\n\u001b[0;32m      4\u001b[0m \u001b[39mfor\u001b[39;00m i \u001b[39min\u001b[39;00m \u001b[39mrange\u001b[39m(\u001b[39m1\u001b[39m, \u001b[39m15\u001b[39m):\n\u001b[0;32m      5\u001b[0m     data \u001b[39m=\u001b[39m get_data(query, i)\n\u001b[1;32m----> 6\u001b[0m     all_data\u001b[39m.\u001b[39;49mextend(data)\n\u001b[0;32m      7\u001b[0m     \u001b[39mprint\u001b[39m(\u001b[39mf\u001b[39m\u001b[39m'\u001b[39m\u001b[39mPage \u001b[39m\u001b[39m{\u001b[39;00mi\u001b[39m}\u001b[39;00m\u001b[39m done\u001b[39m\u001b[39m'\u001b[39m)\n\u001b[0;32m      8\u001b[0m df \u001b[39m=\u001b[39m pd\u001b[39m.\u001b[39mDataFrame(all_data)\u001b[39m.\u001b[39mdropna(how\u001b[39m=\u001b[39m\u001b[39m'\u001b[39m\u001b[39mall\u001b[39m\u001b[39m'\u001b[39m)\n",
      "\u001b[1;31mTypeError\u001b[0m: 'NoneType' object is not iterable"
     ]
    }
   ],
   "source": [
    "import pandas as pd\n",
    "query = 'Mobiles'\n",
    "all_data = []\n",
    "for i in range(1, 15):\n",
    "    data = get_data(query, i)\n",
    "    all_data.extend(data)\n",
    "    print(f'Page {i} done')\n",
    "df = pd.DataFrame(all_data).dropna(how='all')\n",
    "df.to_csv('Mobiles.csv', index=False)"
   ]
  },
  {
   "cell_type": "code",
   "execution_count": null,
   "metadata": {},
   "outputs": [
    {
     "data": {
      "text/html": [
       "<div>\n",
       "<style scoped>\n",
       "    .dataframe tbody tr th:only-of-type {\n",
       "        vertical-align: middle;\n",
       "    }\n",
       "\n",
       "    .dataframe tbody tr th {\n",
       "        vertical-align: top;\n",
       "    }\n",
       "\n",
       "    .dataframe thead th {\n",
       "        text-align: right;\n",
       "    }\n",
       "</style>\n",
       "<table border=\"1\" class=\"dataframe\">\n",
       "  <thead>\n",
       "    <tr style=\"text-align: right;\">\n",
       "      <th></th>\n",
       "      <th>0</th>\n",
       "    </tr>\n",
       "  </thead>\n",
       "  <tbody>\n",
       "  </tbody>\n",
       "</table>\n",
       "</div>"
      ],
      "text/plain": [
       "Empty DataFrame\n",
       "Columns: [0]\n",
       "Index: []"
      ]
     },
     "execution_count": 17,
     "metadata": {},
     "output_type": "execute_result"
    }
   ],
   "source": [
    "df"
   ]
  },
  {
   "cell_type": "code",
   "execution_count": null,
   "metadata": {},
   "outputs": [],
   "source": []
  }
 ],
 "metadata": {
  "kernelspec": {
   "display_name": "base",
   "language": "python",
   "name": "python3"
  },
  "language_info": {
   "codemirror_mode": {
    "name": "ipython",
    "version": 3
   },
   "file_extension": ".py",
   "mimetype": "text/x-python",
   "name": "python",
   "nbconvert_exporter": "python",
   "pygments_lexer": "ipython3",
   "version": "3.10.8"
  },
  "orig_nbformat": 4
 },
 "nbformat": 4,
 "nbformat_minor": 2
}

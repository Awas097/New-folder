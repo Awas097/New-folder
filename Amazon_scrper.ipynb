{
 "cells": [
  {
   "cell_type": "code",
   "execution_count": 47,
   "metadata": {},
   "outputs": [],
   "source": [
    "from dputils.scrape import Scraper, Tag"
   ]
  },
  {
   "cell_type": "code",
   "execution_count": 48,
   "metadata": {},
   "outputs": [
    {
     "data": {
      "text/plain": [
       "<title>Amazon.in : Mobiles</title>"
      ]
     },
     "execution_count": 48,
     "metadata": {},
     "output_type": "execute_result"
    }
   ],
   "source": [
    "page = 1\n",
    "query = 'Mobiles'\n",
    "webpage = Scraper(f'https://www.amazon.in/s?k={query}&page={page}')\n",
    "webpage.soup.title"
   ]
  },
  {
   "cell_type": "code",
   "execution_count": 49,
   "metadata": {},
   "outputs": [
    {
     "data": {
      "text/plain": [
       "[{'name': None, 'price': None, 'rating': None},\n",
       " {'name': None, 'price': None, 'rating': None},\n",
       " {'name': \"iQOO Z7 5G by vivo (Pacific Night, 6GB RAM, 128GB Storage) | Dimensity 920 5G 6nm Processor | 64MP OIS Ultra Stable Camera | Segment's Brightest AMOLED Display | 44W FlashCharge  \",\n",
       "  'price': '18,999',\n",
       "  'rating': None},\n",
       " {'name': 'Apple iPhone 13 (128GB) - Midnight  ',\n",
       "  'price': '61,999',\n",
       "  'rating': '4.6 out of 5 stars'},\n",
       " {'name': 'Samsung Galaxy M04 Dark Blue, 4GB RAM, 64GB Storage | Upto 8GB RAM with RAM Plus | MediaTek Helio P35 | 5000 mAh Battery  ',\n",
       "  'price': '7,499',\n",
       "  'rating': None},\n",
       " {'name': 'OnePlus Nord CE 2 Lite 5G (Black Dusk, 6GB RAM, 128GB Storage)  ',\n",
       "  'price': '18,999',\n",
       "  'rating': '4.3 out of 5 stars'},\n",
       " {'name': 'Redmi A1 (Light Blue, 2GB RAM, 32GB Storage) | Segment Best AI Dual Cam | 5000mAh Battery | Leather Texture Design | Android 12  ',\n",
       "  'price': '5,899',\n",
       "  'rating': None},\n",
       " {'name': 'Samsung Galaxy S20 FE 5G (Cloud Mint, 8GB RAM, 128GB Storage)  ',\n",
       "  'price': '34,999',\n",
       "  'rating': None},\n",
       " {'name': None, 'price': None, 'rating': None},\n",
       " {'name': 'OPPO A74 5G (Fantastic Purple,6GB RAM,128GB Storage) with No Cost EMI/Additional Exchange Offers  ',\n",
       "  'price': '15,740',\n",
       "  'rating': None},\n",
       " {'name': 'Redmi 9A Sport (Coral Green, 2GB RAM, 32GB Storage) | 2GHz Octa-core Helio G25 Processor | 5000 mAh Battery  ',\n",
       "  'price': '6,499',\n",
       "  'rating': None},\n",
       " {'name': 'Nokia G21 Android Smartphone, Dual SIM, 3-Day Battery Life, 6GB RAM + 128GB Storage, 50MP Triple AI Camera | Nordic Blue  ',\n",
       "  'price': '13,399',\n",
       "  'rating': None},\n",
       " {'name': 'Samsung Galaxy M33 5G (Emerald Brown, 6GB, 128GB Storage) | 6000mAh Battery | Upto 12GB RAM with RAM Plus | Travel Adapter to be Purchased Separately  ',\n",
       "  'price': '17,999',\n",
       "  'rating': None},\n",
       " {'name': 'Samsung Galaxy M04 Light Green, 4GB RAM, 64GB Storage | Upto 8GB RAM with RAM Plus | MediaTek Helio P35 | 5000 mAh Battery  ',\n",
       "  'price': '7,499',\n",
       "  'rating': None},\n",
       " {'name': 'Apple iPhone 14 Pro (1 TB) - Gold  ',\n",
       "  'price': '1,73,099',\n",
       "  'rating': '4.6 out of 5 stars'},\n",
       " {'name': 'Apple iPhone 14 Pro Max (128 GB) - Deep Purple  ',\n",
       "  'price': '1,39,900',\n",
       "  'rating': '4.5 out of 5 stars'},\n",
       " {'name': 'Oppo A78 5G (Glowing Blue, 8GB RAM, 128 Storage) | 5000 mAh Battery with 33W SUPERVOOC Charger| 50MP AI Camera | 90Hz Refresh Rate | with No Cost EMI/Additional Exchange Offers  ',\n",
       "  'price': '18,999',\n",
       "  'rating': None},\n",
       " {'name': None, 'price': None, 'rating': None},\n",
       " {'name': \"iQOO Z7 5G by vivo (Pacific Night, 6GB RAM, 128GB Storage) | Dimensity 920 5G 6nm Processor | 64MP OIS Ultra Stable Camera | Segment's Brightest AMOLED Display | 44W FlashCharge  \",\n",
       "  'price': '18,999',\n",
       "  'rating': None},\n",
       " {'name': 'Redmi 10A (Sea Blue, 4GB RAM, 64GB Storage) | 2 Ghz Octa Core Helio G25 | 5000 mAh Battery | Finger Print Sensor | Upto 5GB RAM with RAM Booster  ',\n",
       "  'price': '8,799',\n",
       "  'rating': None},\n",
       " {'name': 'Samsung Galaxy M13 (Aqua Green, 4GB, 64GB Storage) | 6000mAh Battery | Upto 8GB RAM with RAM Plus  ',\n",
       "  'price': '10,999',\n",
       "  'rating': None},\n",
       " {'name': 'Redmi Note 11T 5G (Stardust White, 8GB RAM, 128GB ROM) | Dimensity 810 5G | 33W Pro Fast Charging | Charger Included | Additional Exchange Offers| Get 2 Months of YouTube Premium Free!  ',\n",
       "  'price': '18,499',\n",
       "  'rating': None},\n",
       " {'name': 'Redmi 10 Power (Sporty Orange, 8GB RAM, 128GB Storage)  ',\n",
       "  'price': '10,999',\n",
       "  'rating': None},\n",
       " {'name': 'Redmi 10A (Slate Grey, 4GB RAM, 64GB Storage) | 2 Ghz Octa Core Helio G25 | 5000 mAh Battery | Finger Print Sensor | Upto 5GB RAM with RAM Booster  ',\n",
       "  'price': '8,799',\n",
       "  'rating': None},\n",
       " {'name': 'Nokia C12 Android 12 (Go Edition) Smartphone, All-Day Battery, 4GB RAM (2GB RAM + 2GB Virtual RAM) + 64GB Capacity | Charcoal  ',\n",
       "  'price': '5,999',\n",
       "  'rating': None},\n",
       " {'name': 'Apple iPhone 14 Plus (256 GB) - Blue  ',\n",
       "  'price': '94,900',\n",
       "  'rating': '4.4 out of 5 stars'},\n",
       " {'name': 'Apple iPhone SE (64 GB) - Midnight (3rd Generation)  ',\n",
       "  'price': '49,900',\n",
       "  'rating': '4.3 out of 5 stars'},\n",
       " {'name': 'Samsung Galaxy M04 Dark Blue, 4GB RAM, 64GB Storage | Upto 8GB RAM with RAM Plus | MediaTek Helio P35 | 5000 mAh Battery  ',\n",
       "  'price': '7,499',\n",
       "  'rating': '4.3 out of 5 stars'},\n",
       " {'name': 'Samsung Galaxy M04 Dark Blue, 4GB RAM, 64GB Storage | Upto 8GB RAM with RAM Plus | MediaTek Helio P35 | 5000 mAh Battery  ',\n",
       "  'price': '7,499',\n",
       "  'rating': None},\n",
       " {'name': 'Redmi A1 (Light Blue, 2GB RAM, 32GB Storage) | Segment Best AI Dual Cam | 5000mAh Battery | Leather Texture Design | Android 12  ',\n",
       "  'price': '5,899',\n",
       "  'rating': None},\n",
       " {'name': 'OnePlus Nord CE 2 Lite 5G (Black Dusk, 6GB RAM, 128GB Storage)  ',\n",
       "  'price': '18,999',\n",
       "  'rating': '4.3 out of 5 stars'},\n",
       " {'name': 'OPPO A74 5G (Fantastic Purple,6GB RAM,128GB Storage) with No Cost EMI/Additional Exchange Offers  ',\n",
       "  'price': '15,740',\n",
       "  'rating': None},\n",
       " {'name': 'iQOO Neo 7 5G (Interstellar Black, 8GB RAM, 128GB Storage) | Dimensity 8200, only 4nm Processor in The Segment| 50% Charge in 10 mins| Motion Control & 90 FPS Gaming| Additional 2000 Off on Exchange  ',\n",
       "  'price': '29,999',\n",
       "  'rating': None},\n",
       " {'name': 'realme Narzo 50 Pro 5G (Hyper Blue 6GB RAM+128GB Storage) Super AMOLED | Advanced Dimensity 920 5G Gaming Processor | 50% Charge in 31 min  ',\n",
       "  'price': '16,999',\n",
       "  'rating': None},\n",
       " {'name': 'iQOO Neo 6 5G (Cyber Rage, 8GB RAM, 128GB Storage) | Only Snapdragon 870 in The Segment | 50% Charge in Just 12 Mins | 90 FPS Gaming Support*  ',\n",
       "  'price': '28,999',\n",
       "  'rating': '4.4 out of 5 stars'},\n",
       " {'name': 'realme Narzo 50 Pro 5G (Hyper Black 6GB RAM+128GB Storage) Super AMOLED | Advanced Dimensity 920 5G Gaming Processor | 50% Charge in 31 min  ',\n",
       "  'price': '16,999',\n",
       "  'rating': None},\n",
       " {'name': None, 'price': None, 'rating': None},\n",
       " {'name': None, 'price': None, 'rating': None},\n",
       " {'name': None, 'price': None, 'rating': None},\n",
       " {'name': None, 'price': None, 'rating': None}]"
      ]
     },
     "execution_count": 49,
     "metadata": {},
     "output_type": "execute_result"
    }
   ],
   "source": [
    "target = Tag(cls='s-main-slot s-result-list s-search-results sg-row')\n",
    "items = Tag(cls='s-result-item')\n",
    "title = Tag('h2')\n",
    "price = Tag('span',cls='a-price-whole')\n",
    "rating = Tag('i',cls= 'a-icon a-icon-star-small a-star-small-4-5 aok-align-bottom')\n",
    "webpage.get_all(target, items, name=title,price=price, rating=rating )"
   ]
  },
  {
   "cell_type": "code",
   "execution_count": null,
   "metadata": {},
   "outputs": [],
   "source": []
  }
 ],
 "metadata": {
  "kernelspec": {
   "display_name": "base",
   "language": "python",
   "name": "python3"
  },
  "language_info": {
   "codemirror_mode": {
    "name": "ipython",
    "version": 3
   },
   "file_extension": ".py",
   "mimetype": "text/x-python",
   "name": "python",
   "nbconvert_exporter": "python",
   "pygments_lexer": "ipython3",
   "version": "3.10.8"
  },
  "orig_nbformat": 4
 },
 "nbformat": 4,
 "nbformat_minor": 2
}
